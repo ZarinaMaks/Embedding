{
 "cells": [
  {
   "cell_type": "markdown",
   "source": [
    "# Парсинг страниц Auto.ru"
   ],
   "attachments": {},
   "metadata": {
    "jupyter": {
     "source_hidden": false,
     "outputs_hidden": false
    },
    "datalore": {
     "type": "MD",
     "sheet_delimiter": false
    }
   }
  },
  {
   "cell_type": "code",
   "source": [
    "import pandas as pd\n",
    "import numpy as np\n",
    "from scipy import stats\n",
    "from matplotlib import pyplot as plt\n",
    "from sklearn import preprocessing\n",
    "import seaborn"
   ],
   "execution_count": 47,
   "outputs": [],
   "metadata": {
    "jupyter": {
     "source_hidden": false,
     "outputs_hidden": false
    },
    "datalore": {
     "type": "CODE",
     "sheet_delimiter": false
    }
   }
  },
  {
   "cell_type": "markdown",
   "source": [
    "## Сбор данных: парсинг и выделение признаков\n",
    "С помощью скрипта autoru_parser.py мы можем выделить следующие признаки для каждого объявления:\n",
    "1. Вещественные:\n",
    "    - Рубли/Доллары/Евро\n",
    "    - Пробег\n",
    "2. Целочисленные:\n",
    "    - Количество дверей\n",
    "    - Объем багажника\n",
    "    - Количество владельцев \n",
    "    - Координаты\n",
    "    - Регион (по кодам)\n",
    "    - Год\n",
    "3. Категориальные (в т.ч. бинарные):\n",
    "    - Лицензия - бинарный (True, False)\n",
    "    - Авто класс - бинарный (True/False)\n",
    "    - С салона - бинарный (True, False)\n",
    "    - Таможня - бинарный (True, False)\n",
    "    - PTS - (Dublicate, Original)\n",
    "    - Доступность - In_Stock, Out_Of_Stock\n",
    "    - Категория (для конкретной выборки Mersedes - cars)\n",
    "    - Цвет (в виде кода, можно преобразовать в более общие категории, а не по точным оттенкам)\n",
    "    - Временная зона\n",
    "    - Тип автомобиля \n",
    "    - Марка автомобиля\n",
    "    - Модель автомобиля\n",
    "\n",
    "\n",
    "4. Другие:\n",
    "    - Описание\n",
    "    - Фото/изображения\n",
    "    - Имя автомобиля - строковый/категориальный\n",
    "    - VIN - индивидуальный шифр"
   ],
   "attachments": {},
   "metadata": {
    "jupyter": {
     "source_hidden": false,
     "outputs_hidden": false
    },
    "datalore": {
     "type": "MD",
     "sheet_delimiter": false
    }
   }
  },
  {
   "cell_type": "code",
   "source": [
    "with open('autoru_parsing_result2.txt', 'r') as file:\n",
    "    lines = file.readlines()\n",
    "\n",
    "# Uncomment to see lines:\n",
    "# lines"
   ],
   "execution_count": 48,
   "outputs": [],
   "metadata": {
    "jupyter": {
     "source_hidden": false,
     "outputs_hidden": false
    },
    "datalore": {
     "type": "CODE",
     "sheet_delimiter": false
    }
   }
  },
  {
   "cell_type": "markdown",
   "source": [
    "Пока не будем никак работать с изображениями, поэтому уберем их:"
   ],
   "attachments": {},
   "metadata": {
    "jupyter": {
     "source_hidden": false,
     "outputs_hidden": false
    },
    "datalore": {
     "type": "MD",
     "sheet_delimiter": false
    }
   }
  },
  {
   "cell_type": "code",
   "source": [
    "prefix = '//avatars.' # to remove unnececcasy images for now\n",
    "newlines = [x for x in lines if not x.startswith(prefix)]\n",
    "\n",
    "# Uncomment to see lines without image links:\n",
    "# newlines"
   ],
   "execution_count": 49,
   "outputs": [],
   "metadata": {
    "jupyter": {
     "source_hidden": false,
     "outputs_hidden": false
    },
    "datalore": {
     "type": "CODE",
     "sheet_delimiter": false
    }
   }
  },
  {
   "cell_type": "markdown",
   "source": [
    "Выделим признаки, которые будем исследовать:"
   ],
   "attachments": {},
   "metadata": {
    "jupyter": {
     "source_hidden": false,
     "outputs_hidden": false
    },
    "datalore": {
     "type": "MD",
     "sheet_delimiter": false
    }
   }
  },
  {
   "cell_type": "code",
   "source": [
    "signs = ['Рубли', 'Пробег', 'Количество дверей', 'Объем багажника', \n",
    "         'Количество владельцев', 'Год', 'Лицензия', 'С салона', 'Цвет', \n",
    "         'Временная зона', 'Марка автомобиля', 'Модель автомобиля', 'Тип автомобиля']"
   ],
   "execution_count": 50,
   "outputs": [],
   "metadata": {
    "jupyter": {
     "source_hidden": false,
     "outputs_hidden": false
    },
    "datalore": {
     "type": "CODE",
     "sheet_delimiter": false
    }
   }
  },
  {
   "cell_type": "markdown",
   "source": [
    "Для каждого автомобиля выделим имеющиеся признаки:"
   ],
   "attachments": {},
   "metadata": {
    "jupyter": {
     "source_hidden": false,
     "outputs_hidden": false
    },
    "datalore": {
     "type": "MD",
     "sheet_delimiter": false
    }
   }
  },
  {
   "cell_type": "code",
   "source": [
    "separator = '=================================================================================================================================\\n'\n",
    "index = 0\n",
    "labels = [[]]\n",
    "for i in range(len(newlines)):\n",
    "    if newlines[i]:\n",
    "        first_word = newlines[i].split(':')[0]\n",
    "        if first_word in signs:\n",
    "            second_word = newlines[i].split(': ')[1].replace(\"\\n\",\"\")\n",
    "            labels[index].append((first_word, second_word))\n",
    "        if newlines[i] == separator:\n",
    "            index += 1\n",
    "            labels.append([])\n",
    "labels.pop()\n",
    "\n",
    "# Uncomment to see the collected objects:\n",
    "# labels"
   ],
   "execution_count": 51,
   "outputs": [
    {
     "data": {
      "text/plain": [
       "[]"
      ]
     },
     "metadata": {},
     "output_type": "display_data"
    }
   ],
   "metadata": {
    "jupyter": {
     "source_hidden": false,
     "outputs_hidden": false
    },
    "datalore": {
     "type": "CODE",
     "sheet_delimiter": false
    }
   }
  },
  {
   "cell_type": "code",
   "source": [
    "data = pd.DataFrame(columns=signs)\n",
    "\n",
    "for label in labels:\n",
    "    labeldict = {}\n",
    "    for i in range(len(label)):\n",
    "        labeldict[label[i][0]] = label[i][1]\n",
    "    data = data.append(labeldict, ignore_index=True)"
   ],
   "execution_count": 52,
   "outputs": [],
   "metadata": {
    "jupyter": {
     "source_hidden": false,
     "outputs_hidden": false
    },
    "datalore": {
     "type": "CODE",
     "sheet_delimiter": false
    }
   }
  },
  {
   "cell_type": "code",
   "source": [
    "data.head()"
   ],
   "execution_count": 53,
   "outputs": [
    {
     "data": {
      "text/html": [
       "<div>\n",
       "<style scoped>\n",
       "    .dataframe tbody tr th:only-of-type {\n",
       "        vertical-align: middle;\n",
       "    }\n",
       "\n",
       "    .dataframe tbody tr th {\n",
       "        vertical-align: top;\n",
       "    }\n",
       "\n",
       "    .dataframe thead th {\n",
       "        text-align: right;\n",
       "    }\n",
       "</style>\n",
       "<table border=\"1\" class=\"dataframe\">\n",
       "  <thead>\n",
       "    <tr style=\"text-align: right;\">\n",
       "      <th></th>\n",
       "      <th>Рубли</th>\n",
       "      <th>Пробег</th>\n",
       "      <th>Количество дверей</th>\n",
       "      <th>Объем багажника</th>\n",
       "      <th>Количество владельцев</th>\n",
       "      <th>Год</th>\n",
       "      <th>Лицензия</th>\n",
       "      <th>С салона</th>\n",
       "      <th>Цвет</th>\n",
       "      <th>Временная зона</th>\n",
       "      <th>Марка автомобиля</th>\n",
       "      <th>Модель автомобиля</th>\n",
       "      <th>Тип автомобиля</th>\n",
       "    </tr>\n",
       "  </thead>\n",
       "  <tbody>\n",
       "    <tr>\n",
       "      <th>0</th>\n",
       "      <td>1360000</td>\n",
       "      <td>174000</td>\n",
       "      <td>4</td>\n",
       "      <td>NaN</td>\n",
       "      <td>4</td>\n",
       "      <td>2010</td>\n",
       "      <td>******|18</td>\n",
       "      <td>False</td>\n",
       "      <td>#040001</td>\n",
       "      <td>+04</td>\n",
       "      <td>Mercedes-Benz</td>\n",
       "      <td>S-Класс</td>\n",
       "      <td>SEDAN</td>\n",
       "    </tr>\n",
       "    <tr>\n",
       "      <th>1</th>\n",
       "      <td>4310000</td>\n",
       "      <td>28000</td>\n",
       "      <td>4</td>\n",
       "      <td>NaN</td>\n",
       "      <td>1</td>\n",
       "      <td>2019</td>\n",
       "      <td>******|716</td>\n",
       "      <td>False</td>\n",
       "      <td>#97948F</td>\n",
       "      <td>MSK</td>\n",
       "      <td>Mercedes-Benz</td>\n",
       "      <td>A-Класс AMG</td>\n",
       "      <td>SEDAN</td>\n",
       "    </tr>\n",
       "    <tr>\n",
       "      <th>2</th>\n",
       "      <td>7120000</td>\n",
       "      <td>15000</td>\n",
       "      <td>5</td>\n",
       "      <td>NaN</td>\n",
       "      <td>1</td>\n",
       "      <td>2020</td>\n",
       "      <td>******|716</td>\n",
       "      <td>False</td>\n",
       "      <td>#FAFBFB</td>\n",
       "      <td>MSK</td>\n",
       "      <td>Mercedes-Benz</td>\n",
       "      <td>GLE</td>\n",
       "      <td>ALLROAD_5_DOORS</td>\n",
       "    </tr>\n",
       "    <tr>\n",
       "      <th>3</th>\n",
       "      <td>1520000</td>\n",
       "      <td>137000</td>\n",
       "      <td>4</td>\n",
       "      <td>NaN</td>\n",
       "      <td>4</td>\n",
       "      <td>2011</td>\n",
       "      <td>******|156</td>\n",
       "      <td>False</td>\n",
       "      <td>#040001</td>\n",
       "      <td>MSK</td>\n",
       "      <td>Mercedes-Benz</td>\n",
       "      <td>E-Класс</td>\n",
       "      <td>SEDAN</td>\n",
       "    </tr>\n",
       "    <tr>\n",
       "      <th>4</th>\n",
       "      <td>380000</td>\n",
       "      <td>375000</td>\n",
       "      <td>4</td>\n",
       "      <td>NaN</td>\n",
       "      <td>4</td>\n",
       "      <td>2003</td>\n",
       "      <td>NaN</td>\n",
       "      <td>False</td>\n",
       "      <td>#040001</td>\n",
       "      <td>MSK</td>\n",
       "      <td>Mercedes-Benz</td>\n",
       "      <td>C-Класс</td>\n",
       "      <td>SEDAN</td>\n",
       "    </tr>\n",
       "  </tbody>\n",
       "</table>\n",
       "</div>"
      ]
     },
     "metadata": {},
     "output_type": "display_data"
    }
   ],
   "metadata": {
    "jupyter": {
     "source_hidden": false,
     "outputs_hidden": false
    },
    "datalore": {
     "type": "CODE",
     "sheet_delimiter": false
    }
   }
  },
  {
   "cell_type": "code",
   "source": [
    "data.info()"
   ],
   "execution_count": 54,
   "outputs": [
    {
     "name": "stdout",
     "text": [
      "<class 'pandas.core.frame.DataFrame'>\n",
      "RangeIndex: 1724 entries, 0 to 1723\n",
      "Data columns (total 13 columns):\n",
      " #   Column                 Non-Null Count  Dtype \n",
      "---  ------                 --------------  ----- \n",
      " 0   Рубли                  1695 non-null   object\n",
      " 1   Пробег                 1724 non-null   object\n",
      " 2   Количество дверей      1724 non-null   object\n",
      " 3   Объем багажника        481 non-null    object\n",
      " 4   Количество владельцев  1537 non-null   object\n",
      " 5   Год                    1724 non-null   object\n",
      " 6   Лицензия               732 non-null    object\n",
      " 7   С салона               1724 non-null   object\n",
      " 8   Цвет                   1724 non-null   object\n",
      " 9   Временная зона         1724 non-null   object\n",
      " 10  Марка автомобиля       1724 non-null   object\n",
      " 11  Модель автомобиля      1724 non-null   object\n",
      " 12  Тип автомобиля         1724 non-null   object\n",
      "dtypes: object(13)\n",
      "memory usage: 175.2+ KB\n"
     ],
     "output_type": "stream"
    }
   ],
   "metadata": {
    "jupyter": {
     "source_hidden": false,
     "outputs_hidden": false
    },
    "datalore": {
     "type": "CODE",
     "sheet_delimiter": false
    }
   }
  },
  {
   "cell_type": "markdown",
   "source": [
    "## Отбор признаков\n",
    "- Уберем признак \"Лицензия\", так как более половины значений в нем - пропущенные. \n",
    "- Уберем те автомобили, у которых не известна цена в рублях (позже можно просто будет сделать конвертации между долларами/евро/рублями).\n",
    "- Пустые значения колонки 'Пробег' заполним медианным значением.\n",
    "- Для пустых ячеек признака \"Количество владельцев\" поставим хотя бы 1.\n",
    "- Создадим три списка признаков, соответствующие их группам: вещественные, целочисленные и категориальные. "
   ],
   "attachments": {},
   "metadata": {
    "jupyter": {
     "source_hidden": false,
     "outputs_hidden": false
    },
    "datalore": {
     "type": "MD",
     "sheet_delimiter": false
    }
   }
  },
  {
   "cell_type": "code",
   "source": [
    "data = data[data['Рубли'].notna()]\n",
    "data = data.drop(['Лицензия'], axis=1)\n",
    "data['Количество владельцев'].fillna(1, inplace=True)\n",
    "data['Объем багажника'].fillna(data['Объем багажника'].notnull().astype('int').mean(), inplace=True)\n",
    "data.info()"
   ],
   "execution_count": 55,
   "outputs": [
    {
     "name": "stdout",
     "text": [
      "<class 'pandas.core.frame.DataFrame'>\n",
      "Int64Index: 1695 entries, 0 to 1723\n",
      "Data columns (total 12 columns):\n",
      " #   Column                 Non-Null Count  Dtype \n",
      "---  ------                 --------------  ----- \n",
      " 0   Рубли                  1695 non-null   object\n",
      " 1   Пробег                 1695 non-null   object\n",
      " 2   Количество дверей      1695 non-null   object\n",
      " 3   Объем багажника        1695 non-null   object\n",
      " 4   Количество владельцев  1695 non-null   object\n",
      " 5   Год                    1695 non-null   object\n",
      " 6   С салона               1695 non-null   object\n",
      " 7   Цвет                   1695 non-null   object\n",
      " 8   Временная зона         1695 non-null   object\n",
      " 9   Марка автомобиля       1695 non-null   object\n",
      " 10  Модель автомобиля      1695 non-null   object\n",
      " 11  Тип автомобиля         1695 non-null   object\n",
      "dtypes: object(12)\n",
      "memory usage: 172.1+ KB\n"
     ],
     "output_type": "stream"
    }
   ],
   "metadata": {
    "jupyter": {
     "source_hidden": false,
     "outputs_hidden": false
    },
    "datalore": {
     "type": "CODE",
     "sheet_delimiter": false
    }
   }
  },
  {
   "cell_type": "code",
   "source": [
    "real_features = ['Пробег', 'Рубли']\n",
    "discrete_features = ['Количество дверей', 'Объем багажника', 'Количество владельцев', 'Год']\n",
    "cat_features = data.columns.drop(real_features).drop(discrete_features).tolist()"
   ],
   "execution_count": 56,
   "outputs": [],
   "metadata": {
    "jupyter": {
     "source_hidden": false,
     "outputs_hidden": false
    },
    "datalore": {
     "type": "CODE",
     "sheet_delimiter": false
    }
   }
  },
  {
   "cell_type": "markdown",
   "source": [
    "Первичный анализ:"
   ],
   "attachments": {},
   "metadata": {
    "jupyter": {
     "source_hidden": false,
     "outputs_hidden": false
    },
    "datalore": {
     "type": "MD",
     "sheet_delimiter": false
    }
   }
  },
  {
   "cell_type": "code",
   "source": [
    "#data[discrete_features].describe()\n",
    "data[real_features] = data[real_features].astype('int')\n",
    "data[real_features].info()\n",
    "real_hist = data[real_features].hist(bins=100, figsize=(20,5))"
   ],
   "execution_count": 57,
   "outputs": [
    {
     "name": "stdout",
     "text": [
      "<class 'pandas.core.frame.DataFrame'>\n",
      "Int64Index: 1695 entries, 0 to 1723\n",
      "Data columns (total 2 columns):\n",
      " #   Column  Non-Null Count  Dtype\n",
      "---  ------  --------------  -----\n",
      " 0   Пробег  1695 non-null   int64\n",
      " 1   Рубли   1695 non-null   int64\n",
      "dtypes: int64(2)\n",
      "memory usage: 39.7 KB\n"
     ],
     "output_type": "stream"
    },
    {
     "data": {
      "image/png": "[encoded data removed]"
     },
     "metadata": {
      "image/png": {}
     },
     "output_type": "display_data"
    }
   ],
   "metadata": {
    "jupyter": {
     "source_hidden": false,
     "outputs_hidden": false
    },
    "datalore": {
     "type": "CODE",
     "sheet_delimiter": false
    }
   }
  },
  {
   "cell_type": "code",
   "source": [
    "data[discrete_features] = data[discrete_features].astype('int')\n",
    "data[discrete_features].info()\n",
    "discrete_hist = data[discrete_features].hist(bins=50, figsize=(20,5))"
   ],
   "execution_count": 58,
   "outputs": [
    {
     "name": "stdout",
     "text": [
      "<class 'pandas.core.frame.DataFrame'>\n",
      "Int64Index: 1695 entries, 0 to 1723\n",
      "Data columns (total 4 columns):\n",
      " #   Column                 Non-Null Count  Dtype\n",
      "---  ------                 --------------  -----\n",
      " 0   Количество дверей      1695 non-null   int64\n",
      " 1   Объем багажника        1695 non-null   int64\n",
      " 2   Количество владельцев  1695 non-null   int64\n",
      " 3   Год                    1695 non-null   int64\n",
      "dtypes: int64(4)\n",
      "memory usage: 66.2 KB\n"
     ],
     "output_type": "stream"
    },
    {
     "data": {
      "image/png": "[encoded data removed]"
     },
     "metadata": {
      "image/png": {}
     },
     "output_type": "display_data"
    }
   ],
   "metadata": {
    "jupyter": {
     "source_hidden": false,
     "outputs_hidden": false
    },
    "datalore": {
     "type": "CODE",
     "sheet_delimiter": false
    }
   }
  },
  {
   "cell_type": "code",
   "source": [
    "def count_uniques(lst):\n",
    "    counts = {}\n",
    "    for i in range(len(lst)):\n",
    "        if lst[i] in counts:\n",
    "            counts[lst[i]] += 1\n",
    "        else:\n",
    "            counts[lst[i]] = 1\n",
    "    return counts.keys(), counts.values()"
   ],
   "execution_count": 59,
   "outputs": [],
   "metadata": {
    "jupyter": {
     "source_hidden": false,
     "outputs_hidden": false
    },
    "datalore": {
     "type": "CODE",
     "sheet_delimiter": false
    }
   }
  },
  {
   "cell_type": "code",
   "source": [
    "fig, axes = plt.subplots(len(cat_features)-2, 1, figsize=(15, 20))\n",
    "for i in range(len(cat_features)):\n",
    "    if cat_features[i] == 'Модель автомобиля' or cat_features[i] == 'Тип автомобиля':\n",
    "        labels, values = count_uniques(list(data[cat_features[i]]))\n",
    "        position = np.arange(len(labels))\n",
    "        fig, ax = plt.subplots()\n",
    "        ax.barh(position, values)\n",
    "        ax.set_yticks(position)\n",
    "        labels = ax.set_yticklabels(labels,\n",
    "                   verticalalignment =  'center')    #  Вертикальное выравнивание     \n",
    "        fig.set_figwidth(10)\n",
    "        fig.set_figheight(10)\n",
    "    else:\n",
    "        seaborn.countplot(x=cat_features[i], data=data, ax=axes[int(i % (len(cat_features)-2))])"
   ],
   "execution_count": 60,
   "outputs": [
    {
     "data": {
      "image/png": "[encoded data removed]"
     },
     "metadata": {
      "image/png": {}
     },
     "output_type": "display_data"
    }
   ],
   "metadata": {
    "jupyter": {
     "source_hidden": false,
     "outputs_hidden": false
    },
    "datalore": {
     "type": "CODE",
     "sheet_delimiter": false
    }
   }
  },
  {
   "cell_type": "markdown",
   "source": [
    "Видим, что среди категориальных признаков тоже есть выбросы. Это может в дальнейшем осложнить, например, классификацию.\n",
    "Скорее всего, если мы будем использовать DBScan, эти объекты автоматически отнесутся к выбросам, но все же не стоит о них забывать.\n",
    "\n",
    "P.S. поскольку парсили мы автомобили конкретно по марке Mерседес, то и признак этот имеет всего одно значение, изменив парсер, **в дальнейшем мы конечно же можем сравнивать автомобили разных марок**.\n",
    "Можно так же, например, попробовать предсказывать марки автомобилей по имеющимся параметрам бинарным классификатором (то же самое можно делать и для других бинарных категорий)."
   ],
   "attachments": {},
   "metadata": {
    "jupyter": {
     "source_hidden": false,
     "outputs_hidden": false
    },
    "datalore": {
     "type": "MD",
     "sheet_delimiter": false
    }
   }
  },
  {
   "cell_type": "markdown",
   "source": [
    "# Проверим гипотезу о влиянии года машины на цену"
   ],
   "attachments": {},
   "metadata": {
    "jupyter": {
     "source_hidden": false,
     "outputs_hidden": false
    },
    "datalore": {
     "type": "MD",
     "sheet_delimiter": false
    }
   }
  },
  {
   "cell_type": "markdown",
   "source": [
    "Исключительно ради примера проверим, насколько статистически значимая разница (на уровне p-value = 0.05) между ценой автомобилей до 2000 года (включительно) и после."
   ],
   "attachments": {},
   "metadata": {
    "jupyter": {
     "source_hidden": false,
     "outputs_hidden": false
    },
    "datalore": {
     "type": "MD",
     "sheet_delimiter": false
    }
   }
  },
  {
   "cell_type": "code",
   "source": [
    "x = data['Год']\n",
    "y = data['Рубли']"
   ],
   "execution_count": 61,
   "outputs": [],
   "metadata": {
    "jupyter": {
     "source_hidden": false,
     "outputs_hidden": false
    },
    "datalore": {
     "type": "CODE",
     "sheet_delimiter": false
    }
   }
  },
  {
   "cell_type": "code",
   "source": [
    "plt.scatter(x, y)\n",
    "plt.show()"
   ],
   "execution_count": 62,
   "outputs": [
    {
     "data": {
      "image/png": "[encoded data removed]"
     },
     "metadata": {
      "image/png": {}
     },
     "output_type": "display_data"
    }
   ],
   "metadata": {
    "jupyter": {
     "source_hidden": false,
     "outputs_hidden": false
    },
    "datalore": {
     "type": "CODE",
     "sheet_delimiter": false
    }
   }
  },
  {
   "cell_type": "markdown",
   "source": [
    "Уже сейчас заметна зависимость в данных.\n",
    "\n",
    "Видим выброс 1939 года, посмотрим на него внимательнее:"
   ],
   "attachments": {},
   "metadata": {
    "jupyter": {
     "source_hidden": false,
     "outputs_hidden": false
    },
    "datalore": {
     "type": "MD",
     "sheet_delimiter": false
    }
   }
  },
  {
   "cell_type": "code",
   "source": [
    "data.loc[data['Год'] == 1939]"
   ],
   "execution_count": 63,
   "outputs": [
    {
     "data": {
      "text/html": [
       "<div>\n",
       "<style scoped>\n",
       "    .dataframe tbody tr th:only-of-type {\n",
       "        vertical-align: middle;\n",
       "    }\n",
       "\n",
       "    .dataframe tbody tr th {\n",
       "        vertical-align: top;\n",
       "    }\n",
       "\n",
       "    .dataframe thead th {\n",
       "        text-align: right;\n",
       "    }\n",
       "</style>\n",
       "<table border=\"1\" class=\"dataframe\">\n",
       "  <thead>\n",
       "    <tr style=\"text-align: right;\">\n",
       "      <th></th>\n",
       "      <th>Рубли</th>\n",
       "      <th>Пробег</th>\n",
       "      <th>Количество дверей</th>\n",
       "      <th>Объем багажника</th>\n",
       "      <th>Количество владельцев</th>\n",
       "      <th>Год</th>\n",
       "      <th>С салона</th>\n",
       "      <th>Цвет</th>\n",
       "      <th>Временная зона</th>\n",
       "      <th>Марка автомобиля</th>\n",
       "      <th>Модель автомобиля</th>\n",
       "      <th>Тип автомобиля</th>\n",
       "    </tr>\n",
       "  </thead>\n",
       "  <tbody>\n",
       "    <tr>\n",
       "      <th>644</th>\n",
       "      <td>5430000</td>\n",
       "      <td>1000</td>\n",
       "      <td>2</td>\n",
       "      <td>0</td>\n",
       "      <td>1</td>\n",
       "      <td>1939</td>\n",
       "      <td>False</td>\n",
       "      <td>#FAFBFB</td>\n",
       "      <td>MSK</td>\n",
       "      <td>Mercedes-Benz</td>\n",
       "      <td>W142</td>\n",
       "      <td>CABRIO</td>\n",
       "    </tr>\n",
       "  </tbody>\n",
       "</table>\n",
       "</div>"
      ]
     },
     "metadata": {},
     "output_type": "display_data"
    }
   ],
   "metadata": {
    "jupyter": {
     "source_hidden": false,
     "outputs_hidden": false
    },
    "datalore": {
     "type": "CODE",
     "sheet_delimiter": false
    }
   }
  },
  {
   "cell_type": "markdown",
   "source": [
    "Удалим этот объект, т.к. он является сильной аномалией по сравнению с остальными."
   ],
   "attachments": {},
   "metadata": {
    "jupyter": {
     "source_hidden": false,
     "outputs_hidden": false
    },
    "datalore": {
     "type": "MD",
     "sheet_delimiter": false
    }
   }
  },
  {
   "cell_type": "code",
   "source": [
    "data = data.loc[data['Год'] != 1939]\n",
    "#data.info()"
   ],
   "execution_count": 64,
   "outputs": [],
   "metadata": {
    "jupyter": {
     "source_hidden": false,
     "outputs_hidden": false
    },
    "datalore": {
     "type": "CODE",
     "sheet_delimiter": false
    }
   }
  },
  {
   "cell_type": "code",
   "source": [
    "x = data['Год']\n",
    "y = data['Рубли']"
   ],
   "execution_count": 65,
   "outputs": [],
   "metadata": {
    "jupyter": {
     "source_hidden": false,
     "outputs_hidden": false
    },
    "datalore": {
     "type": "CODE",
     "sheet_delimiter": false
    }
   }
  },
  {
   "cell_type": "code",
   "source": [
    "plt.scatter(x, y)\n",
    "plt.show()"
   ],
   "execution_count": 66,
   "outputs": [
    {
     "data": {
      "image/png": "[encoded data removed]"
     },
     "metadata": {
      "image/png": {}
     },
     "output_type": "display_data"
    }
   ],
   "metadata": {
    "jupyter": {
     "source_hidden": false,
     "outputs_hidden": false
    },
    "datalore": {
     "type": "CODE",
     "sheet_delimiter": false
    }
   }
  },
  {
   "cell_type": "markdown",
   "source": [
    "Интересен тот факт, что автомобили среди объявления Mersedes начинают появляться с ~80-х годов выпуска - тогда наладились массовое производство автомобилей и их поставки в Россию."
   ],
   "attachments": {},
   "metadata": {
    "jupyter": {
     "source_hidden": false,
     "outputs_hidden": false
    },
    "datalore": {
     "type": "MD",
     "sheet_delimiter": false
    }
   }
  },
  {
   "cell_type": "code",
   "source": [
    "# stand_1 = preprocessing.StandardScaler()\n",
    "# stand_2 = preprocessing.MaxAbsScaler()\n",
    "stand_3 = preprocessing.MinMaxScaler()"
   ],
   "execution_count": 67,
   "outputs": [],
   "metadata": {
    "jupyter": {
     "source_hidden": false,
     "outputs_hidden": false
    },
    "datalore": {
     "type": "CODE",
     "sheet_delimiter": false
    }
   }
  },
  {
   "cell_type": "code",
   "source": [
    "# Параметры стандартизации:\n",
    "stand_3.fit(data[real_features+discrete_features])\n",
    "\n",
    "# Преобразуем данные, получим X - матрицу класса numpy.ndarray.\n",
    "X = stand_3.transform(data[real_features+discrete_features]) \n",
    "\n",
    "# Преобразуем X в объект класса pandas.DataFrame:\n",
    "X = pd.DataFrame(X, index=data[real_features+discrete_features].index, columns=data[real_features+discrete_features].columns)"
   ],
   "execution_count": 68,
   "outputs": [],
   "metadata": {
    "jupyter": {
     "source_hidden": false,
     "outputs_hidden": false
    },
    "datalore": {
     "type": "CODE",
     "sheet_delimiter": false
    }
   }
  },
  {
   "cell_type": "code",
   "source": [
    "x = X.loc[data['Год'] > 2000]['Рубли']\n",
    "y = X.loc[data['Год'] <= 2000]['Рубли']\n",
    "x.name, y.name = 'Year>2000', 'Year<=2000'"
   ],
   "execution_count": 69,
   "outputs": [],
   "metadata": {
    "jupyter": {
     "source_hidden": false,
     "outputs_hidden": false
    },
    "datalore": {
     "type": "CODE",
     "sheet_delimiter": false
    }
   }
  },
  {
   "cell_type": "code",
   "source": [
    "from statsmodels.stats.weightstats import zconfint\n",
    "print('95% confidence interval for the ', x.name, ' mean: [%f, %f]' % zconfint(x))\n",
    "print('95% confidence interval for the ', y.name, ' mean: [%f, %f]' % zconfint(y))"
   ],
   "execution_count": 70,
   "outputs": [
    {
     "name": "stdout",
     "text": [
      "95% confidence interval for the  Year>2000  mean: [0.156696, 0.171303]\n",
      "95% confidence interval for the  Year<=2000  mean: [0.011507, 0.027161]\n"
     ],
     "output_type": "stream"
    }
   ],
   "metadata": {
    "jupyter": {
     "source_hidden": false,
     "outputs_hidden": false
    },
    "datalore": {
     "type": "CODE",
     "sheet_delimiter": false
    }
   }
  },
  {
   "cell_type": "markdown",
   "source": [
    "Интервалы не пересекаются, это уже многое говорит о разнице значений в данных, однако проверим все же до конца:"
   ],
   "attachments": {},
   "metadata": {
    "jupyter": {
     "source_hidden": false,
     "outputs_hidden": false
    },
    "datalore": {
     "type": "MD",
     "sheet_delimiter": false
    }
   }
  },
  {
   "cell_type": "code",
   "source": [
    "def two_histograms(x, y):\n",
    "    x.hist(alpha=0.5, weights=[1./len(x)]*len(x))\n",
    "    y.hist(alpha=0.5, weights=[1./len(y)]*len(y))\n",
    "    plt.axvline(x.mean(), color='red', alpha=0.8, linestyle='dashed')\n",
    "    plt.axvline(y.mean(), color='blue', alpha=0.8, linestyle='dashed')\n",
    "    plt.legend([x.name, y.name])"
   ],
   "execution_count": 71,
   "outputs": [],
   "metadata": {
    "jupyter": {
     "source_hidden": false,
     "outputs_hidden": false
    },
    "datalore": {
     "type": "CODE",
     "sheet_delimiter": false
    }
   }
  },
  {
   "cell_type": "code",
   "source": [
    "import numpy as np\n",
    "two_histograms(x, y)"
   ],
   "execution_count": 72,
   "outputs": [
    {
     "data": {
      "image/png": "[encoded data removed]"
     },
     "metadata": {
      "image/png": {}
     },
     "output_type": "display_data"
    }
   ],
   "metadata": {
    "jupyter": {
     "source_hidden": false,
     "outputs_hidden": false
    },
    "datalore": {
     "type": "CODE",
     "sheet_delimiter": false
    }
   }
  },
  {
   "cell_type": "markdown",
   "source": [
    "Выборки явно не распределены нормально - видны правые хвосты (можно конечно в таком случае посмотреть на логарифм).\n",
    "В таком случае не будем применять критерий Стьюдента и воспользуемся сразу Манна-Уитни:"
   ],
   "attachments": {},
   "metadata": {
    "jupyter": {
     "source_hidden": false,
     "outputs_hidden": false
    },
    "datalore": {
     "type": "MD",
     "sheet_delimiter": false
    }
   }
  },
  {
   "cell_type": "code",
   "source": [
    "res = stats.mannwhitneyu(x, y, method=\"asymptotic\")[1]\n",
    "print('p-value: ', res)"
   ],
   "execution_count": 73,
   "outputs": [
    {
     "name": "stdout",
     "text": [
      "p-value:  3.0150238326482374e-34\n"
     ],
     "output_type": "stream"
    }
   ],
   "metadata": {
    "jupyter": {
     "source_hidden": false,
     "outputs_hidden": false
    },
    "datalore": {
     "type": "CODE",
     "sheet_delimiter": false
    }
   }
  },
  {
   "cell_type": "markdown",
   "source": [
    "Нулевая гипотеза о равенстве средних выборок уверенно отвергается. Можно сделать **логический ожидаемый вывод о том, что с увеличением года выпуска(уменьшением возраста машины), цена увеличивается**.\n",
    "\n",
    "Сделаем ради примера проверку еще и перестановочным критерием."
   ],
   "attachments": {},
   "metadata": {
    "jupyter": {
     "source_hidden": false,
     "outputs_hidden": false
    },
    "datalore": {
     "type": "MD",
     "sheet_delimiter": false
    }
   }
  },
  {
   "cell_type": "code",
   "source": [
    "def permutation_t_stat_ind(sample1, sample2):\n",
    "    return np.mean(sample1) - np.mean(sample2)"
   ],
   "execution_count": 74,
   "outputs": [],
   "metadata": {
    "jupyter": {
     "source_hidden": false,
     "outputs_hidden": false
    },
    "datalore": {
     "type": "CODE",
     "sheet_delimiter": false
    }
   }
  },
  {
   "cell_type": "code",
   "source": [
    "def get_random_combinations(n1, n2, max_combinations):\n",
    "    index = list(range(n1 + n2))\n",
    "    indices = set([tuple(index)])\n",
    "    for i in range(max_combinations - 1):\n",
    "        np.random.shuffle(index)\n",
    "        indices.add(tuple(index))\n",
    "    return [(index[:n1], index[n1:]) for index in indices]"
   ],
   "execution_count": 75,
   "outputs": [],
   "metadata": {
    "jupyter": {
     "source_hidden": false,
     "outputs_hidden": false
    },
    "datalore": {
     "type": "CODE",
     "sheet_delimiter": false
    }
   }
  },
  {
   "cell_type": "code",
   "source": [
    "import itertools\n",
    "def permutation_zero_dist_ind(sample1, sample2, max_combinations = None):\n",
    "    joined_sample = np.hstack((sample1, sample2))\n",
    "    n1 = len(sample1)\n",
    "    n = len(joined_sample)\n",
    "    \n",
    "    if max_combinations:\n",
    "        indices = get_random_combinations(n1, len(sample2), max_combinations)\n",
    "    else:\n",
    "        indices = [(list(index), filter(lambda i: i not in index, range(n))) \\\n",
    "                    for index in itertools.combinations(range(n), n1)]\n",
    "    \n",
    "    distr = [joined_sample[list(i[0])].mean() - joined_sample[list(i[1])].mean() \\\n",
    "             for i in indices]\n",
    "    return distr"
   ],
   "execution_count": 76,
   "outputs": [],
   "metadata": {
    "jupyter": {
     "source_hidden": false,
     "outputs_hidden": false
    },
    "datalore": {
     "type": "CODE",
     "sheet_delimiter": false
    }
   }
  },
  {
   "cell_type": "code",
   "source": [
    "plt.hist(permutation_zero_dist_ind(x, y, max_combinations = 10000))\n",
    "plt.show()"
   ],
   "execution_count": 77,
   "outputs": [
    {
     "data": {
      "image/png": "[encoded data removed]"
     },
     "metadata": {
      "image/png": {}
     },
     "output_type": "display_data"
    }
   ],
   "metadata": {
    "jupyter": {
     "source_hidden": false,
     "outputs_hidden": false
    },
    "datalore": {
     "type": "CODE",
     "sheet_delimiter": false
    }
   }
  },
  {
   "cell_type": "code",
   "source": [
    "def permutation_test(sample, mean, max_permutations = None, alternative = 'two-sided'):\n",
    "    if alternative not in ('two-sided', 'less', 'greater'):\n",
    "        raise ValueError(\"alternative not recognized\\n\"\n",
    "                         \"should be 'two-sided', 'less' or 'greater'\")\n",
    "    \n",
    "    t_stat = permutation_t_stat_ind(sample, mean)\n",
    "    \n",
    "    zero_distr = permutation_zero_dist_ind(sample, mean, max_permutations)\n",
    "    \n",
    "    if alternative == 'two-sided':\n",
    "        return sum([1. if abs(x) >= abs(t_stat) else 0. for x in zero_distr]) / len(zero_distr)\n",
    "    \n",
    "    if alternative == 'less':\n",
    "        return sum([1. if x <= t_stat else 0. for x in zero_distr]) / len(zero_distr)\n",
    "\n",
    "    if alternative == 'greater':\n",
    "        return sum([1. if x >= t_stat else 0. for x in zero_distr]) / len(zero_distr)"
   ],
   "execution_count": 78,
   "outputs": [],
   "metadata": {
    "jupyter": {
     "source_hidden": false,
     "outputs_hidden": false
    },
    "datalore": {
     "type": "CODE",
     "sheet_delimiter": false
    }
   }
  },
  {
   "cell_type": "code",
   "source": [
    "print (\"p-value: %f\" % permutation_test(x, y, max_permutations = 10000))"
   ],
   "execution_count": 79,
   "outputs": [
    {
     "name": "stdout",
     "text": [
      "p-value: 0.000100\n"
     ],
     "output_type": "stream"
    }
   ],
   "metadata": {
    "jupyter": {
     "source_hidden": false,
     "outputs_hidden": false
    },
    "datalore": {
     "type": "CODE",
     "sheet_delimiter": false
    }
   }
  },
  {
   "cell_type": "markdown",
   "source": [
    "Нулевая гипотеза снова отвергается - **есть статистически значимая зависимость между годом выпуска и ценой**."
   ],
   "attachments": {},
   "metadata": {
    "jupyter": {
     "source_hidden": false,
     "outputs_hidden": false
    },
    "datalore": {
     "type": "MD",
     "sheet_delimiter": false
    }
   }
  },
  {
   "cell_type": "markdown",
   "source": [
    "# Попробуем сделать простенькую кластеризацию KMeans"
   ],
   "attachments": {},
   "metadata": {
    "jupyter": {
     "source_hidden": false,
     "outputs_hidden": false
    },
    "datalore": {
     "type": "MD",
     "sheet_delimiter": false
    }
   }
  },
  {
   "cell_type": "code",
   "source": [
    "from sklearn.cluster import KMeans"
   ],
   "execution_count": 80,
   "outputs": [],
   "metadata": {
    "jupyter": {
     "source_hidden": false,
     "outputs_hidden": false
    },
    "datalore": {
     "type": "CODE",
     "sheet_delimiter": false
    }
   }
  },
  {
   "cell_type": "code",
   "source": [
    "# Параметры стандартизации:\n",
    "stand_3.fit(data[real_features + discrete_features])\n",
    "\n",
    "# Преобразуем данные, получаем матрицу класса numpy.ndarray:\n",
    "X = stand_3.transform(data[real_features + discrete_features]) \n",
    "\n",
    "# Преобразуем её в объект класса pandas.DataFrame:\n",
    "X = pd.DataFrame(X, index=data[real_features + discrete_features].index, \n",
    "                 columns=data[real_features + discrete_features].columns)\n",
    "\n",
    "K = range(1, 11)\n",
    "models = [KMeans(n_clusters=k, random_state=42).fit(X) for k in K]\n",
    "dist = [model.inertia_ for model in models]\n",
    "\n",
    "# Строим график каменистая осыпь:\n",
    "plt.plot(K, dist, marker='o')\n",
    "plt.xlabel('Число кластеров')\n",
    "plt.ylabel('Сумма квадратов расстояний')\n",
    "plt.title('Каменистая осыпь. Ищем оптимальное k')\n",
    "plt.show()"
   ],
   "execution_count": 81,
   "outputs": [
    {
     "data": {
      "image/png": "[encoded data removed]"
     },
     "metadata": {
      "image/png": {}
     },
     "output_type": "display_data"
    }
   ],
   "metadata": {
    "jupyter": {
     "source_hidden": false,
     "outputs_hidden": false
    },
    "datalore": {
     "type": "CODE",
     "sheet_delimiter": false
    }
   }
  },
  {
   "cell_type": "markdown",
   "source": [
    "Исходя из графика Каменистой осыпи, наиболее разумным кажется разделение датасета на 3-4 кластера. Попробуем 4:"
   ],
   "attachments": {},
   "metadata": {
    "jupyter": {
     "source_hidden": false,
     "outputs_hidden": false
    },
    "datalore": {
     "type": "MD",
     "sheet_delimiter": false
    }
   }
  },
  {
   "cell_type": "code",
   "source": [
    "model = KMeans(n_clusters=4, random_state=42)\n",
    "model.fit(X)\n",
    "\n",
    "#  К таблице добавим марки кластеров:\n",
    "X['cluster'] = model.labels_\n",
    "X.groupby('cluster').mean()"
   ],
   "execution_count": 82,
   "outputs": [
    {
     "data": {
      "text/html": [
       "<div>\n",
       "<style scoped>\n",
       "    .dataframe tbody tr th:only-of-type {\n",
       "        vertical-align: middle;\n",
       "    }\n",
       "\n",
       "    .dataframe tbody tr th {\n",
       "        vertical-align: top;\n",
       "    }\n",
       "\n",
       "    .dataframe thead th {\n",
       "        text-align: right;\n",
       "    }\n",
       "</style>\n",
       "<table border=\"1\" class=\"dataframe\">\n",
       "  <thead>\n",
       "    <tr style=\"text-align: right;\">\n",
       "      <th></th>\n",
       "      <th>Пробег</th>\n",
       "      <th>Рубли</th>\n",
       "      <th>Количество дверей</th>\n",
       "      <th>Объем багажника</th>\n",
       "      <th>Количество владельцев</th>\n",
       "      <th>Год</th>\n",
       "    </tr>\n",
       "    <tr>\n",
       "      <th>cluster</th>\n",
       "      <th></th>\n",
       "      <th></th>\n",
       "      <th></th>\n",
       "      <th></th>\n",
       "      <th></th>\n",
       "      <th></th>\n",
       "    </tr>\n",
       "  </thead>\n",
       "  <tbody>\n",
       "    <tr>\n",
       "      <th>0</th>\n",
       "      <td>0.329684</td>\n",
       "      <td>0.046109</td>\n",
       "      <td>0.735690</td>\n",
       "      <td>0.025491</td>\n",
       "      <td>0.930976</td>\n",
       "      <td>0.663340</td>\n",
       "    </tr>\n",
       "    <tr>\n",
       "      <th>1</th>\n",
       "      <td>0.072880</td>\n",
       "      <td>0.249132</td>\n",
       "      <td>0.883041</td>\n",
       "      <td>0.000000</td>\n",
       "      <td>0.132908</td>\n",
       "      <td>0.903395</td>\n",
       "    </tr>\n",
       "    <tr>\n",
       "      <th>2</th>\n",
       "      <td>0.091468</td>\n",
       "      <td>0.197906</td>\n",
       "      <td>0.907986</td>\n",
       "      <td>0.560424</td>\n",
       "      <td>0.216146</td>\n",
       "      <td>0.903832</td>\n",
       "    </tr>\n",
       "    <tr>\n",
       "      <th>3</th>\n",
       "      <td>0.196050</td>\n",
       "      <td>0.095877</td>\n",
       "      <td>0.000000</td>\n",
       "      <td>0.314716</td>\n",
       "      <td>0.629213</td>\n",
       "      <td>0.790530</td>\n",
       "    </tr>\n",
       "  </tbody>\n",
       "</table>\n",
       "</div>"
      ]
     },
     "metadata": {},
     "output_type": "display_data"
    }
   ],
   "metadata": {
    "jupyter": {
     "source_hidden": false,
     "outputs_hidden": false
    },
    "datalore": {
     "type": "CODE",
     "sheet_delimiter": false
    }
   }
  },
  {
   "cell_type": "code",
   "source": [
    "X.groupby('cluster').size()"
   ],
   "execution_count": 83,
   "outputs": [
    {
     "data": {
      "text/html": []
     },
     "metadata": {},
     "output_type": "display_data"
    }
   ],
   "metadata": {
    "jupyter": {
     "source_hidden": false,
     "outputs_hidden": false
    },
    "datalore": {
     "type": "CODE",
     "sheet_delimiter": false
    }
   }
  },
  {
   "cell_type": "markdown",
   "source": [
    "Попробуем приближенно проинтерпретировать полученную кластеризацию.\n",
    "- **1-й кластер** - сюда попали наиболее дорогие машины: мы можем видеть, что средний год таких машин тоже достаточно высок (т.е. скорее всего они преимущественно новые), параметры пробега и количества владельцев низкие, при этом это судя по всему машины без багажника\n",
    "- **2-й кластер** - сюда тоже попали достаточно дорогие машины, с небольшим пробегом и количеством владельцев, свежим годом, но при этом достаточно большим багажником\n",
    "- **3-й кластер** - более дешевые и старые машины, обладают бОльшим пробегом, по сравнению с предыдущими двумя\n",
    "- **0-й кластер** - машины с самым низким средним показателем цены и года, набольшим пробегом\n",
    "\n",
    "В целом данные логически интерпретируются. Для более точной кластеризации **следует учитывать наличие выбросов по целочисленным параметрам.**"
   ],
   "attachments": {},
   "metadata": {
    "jupyter": {
     "source_hidden": false,
     "outputs_hidden": false
    },
    "datalore": {
     "type": "MD",
     "sheet_delimiter": false
    }
   }
  },
  {
   "cell_type": "markdown",
   "source": [
    "# Попробуем сделать простенькую кластеризацию DBScan"
   ],
   "attachments": {},
   "metadata": {
    "jupyter": {
     "source_hidden": false,
     "outputs_hidden": false
    },
    "datalore": {
     "type": "MD",
     "sheet_delimiter": false
    }
   }
  },
  {
   "cell_type": "code",
   "source": [
    "from sklearn.cluster import DBSCAN"
   ],
   "execution_count": 84,
   "outputs": [],
   "metadata": {
    "jupyter": {
     "source_hidden": false,
     "outputs_hidden": false
    },
    "datalore": {
     "type": "CODE",
     "sheet_delimiter": false
    }
   }
  },
  {
   "cell_type": "code",
   "source": [
    "from sklearn import preprocessing\n",
    "\n",
    "stand_1 = preprocessing.StandardScaler()\n",
    "# stand_2 = preprocessing.MaxAbsScaler()\n",
    "# stand_3 = preprocessing.MinMaxScaler()\n",
    "\n",
    "X2 = X.drop(['cluster'], axis=1)\n",
    "\n",
    "# Параметры стандартизации:\n",
    "stand_1.fit(data[real_features + discrete_features])\n",
    "\n",
    "# Преобразуем данные, получаем матрицу класса numpy.ndarray:\n",
    "X2 = stand_1.transform(data[real_features + discrete_features]) \n",
    "\n",
    "# Преобразуем её в объект класса pandas.DataFrame:\n",
    "X2 = pd.DataFrame(X2, index=data[real_features + discrete_features].index, \n",
    "                 columns=data[real_features + discrete_features].columns)"
   ],
   "execution_count": 85,
   "outputs": [],
   "metadata": {
    "jupyter": {
     "source_hidden": false,
     "outputs_hidden": false
    },
    "datalore": {
     "type": "CODE",
     "sheet_delimiter": false
    }
   }
  },
  {
   "cell_type": "code",
   "source": [
    "#  Создадим объект DBSCAN, зададим значения параметров:\n",
    "dbscan = DBSCAN(eps=1.31, metric='euclidean', min_samples=3)\n",
    "\n",
    "#  Обучим модель DBSCAN:\n",
    "dbscan.fit(X2)\n",
    "\n",
    "# В какой кластер попало наблюдение - np-массив номеров кластеров:\n",
    "dbscan.labels_\n",
    "\n",
    "# Таблица частот: \n",
    "unique, counts = np.unique(dbscan.labels_, return_counts=True)\n",
    "print(np.asarray((unique, counts)).T)"
   ],
   "execution_count": 86,
   "outputs": [
    {
     "name": "stdout",
     "text": [
      "[[  -1   17]\n",
      " [   0 1564]\n",
      " [   1   64]\n",
      " [   2   29]\n",
      " [   3   20]]\n"
     ],
     "output_type": "stream"
    }
   ],
   "metadata": {
    "jupyter": {
     "source_hidden": false,
     "outputs_hidden": false
    },
    "datalore": {
     "type": "CODE",
     "sheet_delimiter": false
    }
   }
  },
  {
   "cell_type": "markdown",
   "source": [
    "P.S. Можно еще поподбирать параметры eps и min_samples для получения более 'приятной' классификации. Можно также почистить данные от очевидных выбросов или попробовать обобщить некоторые категории."
   ],
   "attachments": {},
   "metadata": {
    "jupyter": {
     "source_hidden": false,
     "outputs_hidden": false
    },
    "datalore": {
     "type": "MD",
     "sheet_delimiter": false
    }
   }
  },
  {
   "cell_type": "markdown",
   "source": [
    "## t-SNE"
   ],
   "attachments": {},
   "metadata": {
    "jupyter": {
     "source_hidden": false,
     "outputs_hidden": false
    },
    "datalore": {
     "type": "MD",
     "sheet_delimiter": false
    }
   }
  },
  {
   "cell_type": "code",
   "source": [
    "from sklearn.manifold import TSNE\n",
    "import matplotlib.cm as cm # - цветовые схемы для графиков"
   ],
   "execution_count": 87,
   "outputs": [],
   "metadata": {
    "jupyter": {
     "source_hidden": false,
     "outputs_hidden": false
    },
    "datalore": {
     "type": "CODE",
     "sheet_delimiter": false
    }
   }
  },
  {
   "cell_type": "code",
   "source": [
    "data_subset = X.drop(['cluster'], axis=1)\n",
    "response_subset = X['cluster']"
   ],
   "execution_count": 88,
   "outputs": [],
   "metadata": {
    "jupyter": {
     "source_hidden": false,
     "outputs_hidden": false
    },
    "datalore": {
     "type": "CODE",
     "sheet_delimiter": false
    }
   }
  },
  {
   "cell_type": "code",
   "source": [
    "import warnings\n",
    "warnings.filterwarnings(\"ignore\")\n",
    "\n",
    "method = TSNE(random_state=321)\n",
    "tsne_representation = method.fit_transform(data_subset)"
   ],
   "execution_count": 89,
   "outputs": [],
   "metadata": {
    "jupyter": {
     "source_hidden": false,
     "outputs_hidden": false
    },
    "datalore": {
     "type": "CODE",
     "sheet_delimiter": false
    }
   }
  },
  {
   "cell_type": "code",
   "source": [
    "colors = cm.rainbow(np.linspace(0, 1, len(set(response_subset))))\n",
    "for y, color in zip(set(response_subset), colors):\n",
    "    plt.scatter(tsne_representation[response_subset.values==y, 0],\n",
    "                tsne_representation[response_subset.values==y, 1], c=color.reshape(1,-1), alpha=0.5, label=str(y))\n",
    "plt.legend()"
   ],
   "execution_count": 90,
   "outputs": [
    {
     "data": {
      "text/plain": [
       "<matplotlib.legend.Legend at 0x7fc225509b80>"
      ],
      "image/png": "[encoded data removed]"
     },
     "metadata": {
      "image/png": {}
     },
     "output_type": "display_data"
    }
   ],
   "metadata": {
    "jupyter": {
     "source_hidden": false,
     "outputs_hidden": false
    },
    "datalore": {
     "type": "CODE",
     "sheet_delimiter": false
    }
   }
  },
  {
   "cell_type": "markdown",
   "source": [
    "Можно сделать выводы, что простенький Kmeans действительно выделил классы не слишком плохо. \n",
    "\n",
    "Если уделить больше времени анализу, выбору подходящей модели и параметров для нее, можно сделать кластеризацию лучше."
   ],
   "attachments": {},
   "metadata": {
    "jupyter": {
     "source_hidden": false,
     "outputs_hidden": false
    },
    "datalore": {
     "type": "MD",
     "sheet_delimiter": false
    }
   }
  }
 ],
 "metadata": {
  "datalore": {
   "version": 1,
   "computation_mode": "JUPYTER",
   "package_manager": "pip",
   "base_environment": "default",
   "packages": []
  }
 },
 "nbformat": 4,
 "nbformat_minor": 4
}